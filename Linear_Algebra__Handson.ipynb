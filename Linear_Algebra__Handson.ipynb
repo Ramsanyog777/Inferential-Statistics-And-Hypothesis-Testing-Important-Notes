{
  "nbformat": 4,
  "nbformat_minor": 0,
  "metadata": {
    "colab": {
      "provenance": []
    },
    "kernelspec": {
      "name": "python3",
      "display_name": "Python 3"
    },
    "language_info": {
      "name": "python"
    }
  },
  "cells": [
    {
      "cell_type": "code",
      "execution_count": 3,
      "metadata": {
        "id": "Hp2LntVyMm7l"
      },
      "outputs": [],
      "source": [
        "#import the library\n",
        "import numpy\n"
      ]
    },
    {
      "cell_type": "code",
      "source": [
        "##initializing a matyrix using the numpy array\n",
        "A = numpy.array([[1,2],[2,4]])\n",
        "B = numpy.array([[3,4],[5,6]])"
      ],
      "metadata": {
        "id": "jZbgvhgZM8BC"
      },
      "execution_count": 6,
      "outputs": []
    },
    {
      "cell_type": "code",
      "source": [
        "print(A)\n"
      ],
      "metadata": {
        "colab": {
          "base_uri": "https://localhost:8080/"
        },
        "id": "pDy_ObyYNn6g",
        "outputId": "8db83e2c-204c-446c-841a-7793cc01e04d"
      },
      "execution_count": 9,
      "outputs": [
        {
          "output_type": "stream",
          "name": "stdout",
          "text": [
            "[[1 2]\n",
            " [2 4]]\n"
          ]
        }
      ]
    },
    {
      "cell_type": "code",
      "source": [
        "print(B)"
      ],
      "metadata": {
        "colab": {
          "base_uri": "https://localhost:8080/"
        },
        "id": "7JwkprEfNukU",
        "outputId": "2d68a0c7-9553-4e4d-d0b2-eadd94973cb7"
      },
      "execution_count": 8,
      "outputs": [
        {
          "output_type": "stream",
          "name": "stdout",
          "text": [
            "[[3 4]\n",
            " [5 6]]\n"
          ]
        }
      ]
    },
    {
      "cell_type": "code",
      "source": [
        "##Vector multplication\n",
        "c = numpy.array([[5,2,9],[4,6,7],[1,3,8]])\n",
        "d = numpy.array([[1],[2],[4]])\n",
        "result = numpy.dot(c,d)\n",
        "print(result)"
      ],
      "metadata": {
        "colab": {
          "base_uri": "https://localhost:8080/"
        },
        "id": "p1Ry5BFYQ8-B",
        "outputId": "bc792abc-5f4b-4592-c0f3-60d83de96195"
      },
      "execution_count": 10,
      "outputs": [
        {
          "output_type": "stream",
          "name": "stdout",
          "text": [
            "[[45]\n",
            " [44]\n",
            " [39]]\n"
          ]
        }
      ]
    },
    {
      "cell_type": "code",
      "source": [
        "##Vector multplication\n",
        "e = numpy.array([[5,2,9],[4,6,7],[1,3,8]])\n",
        "f = numpy.array([[1,2],[2,1],[1,2]])\n",
        "result = numpy.dot(e,f)\n",
        "print(result)"
      ],
      "metadata": {
        "colab": {
          "base_uri": "https://localhost:8080/"
        },
        "id": "hrWm2KzWR2J_",
        "outputId": "ecb33384-4462-4abe-891e-1c2f93ef3a78"
      },
      "execution_count": 11,
      "outputs": [
        {
          "output_type": "stream",
          "name": "stdout",
          "text": [
            "[[18 30]\n",
            " [23 28]\n",
            " [15 21]]\n"
          ]
        }
      ]
    },
    {
      "cell_type": "code",
      "source": [
        "##Vector multplication\n",
        "g = numpy.array([[5,2,9],[4,6,7],[1,3,8]])\n",
        "h = numpy.array([[1,2,1],[3,1,2],[4,2,1]])\n",
        "result = numpy.dot(g,h)\n",
        "print(result)"
      ],
      "metadata": {
        "colab": {
          "base_uri": "https://localhost:8080/"
        },
        "id": "CKlEMdXxSevt",
        "outputId": "d928542c-c2b2-4fc5-a3d8-fe04c535820b"
      },
      "execution_count": 12,
      "outputs": [
        {
          "output_type": "stream",
          "name": "stdout",
          "text": [
            "[[47 30 18]\n",
            " [50 28 23]\n",
            " [42 21 15]]\n"
          ]
        }
      ]
    },
    {
      "cell_type": "code",
      "source": [
        " N = numpy.array([[3],[2],[8]])\n",
        " M = numpy.array([[2],[9],[7]])\n",
        " # transposr the array, because the parameter must be in dimentions 2 or 3\n",
        " cross = np.cross(np.transpose(N),np.transpose(M))\n",
        " print(cross)\n",
        "\n",
        " ## if i can ask\n",
        ""
      ],
      "metadata": {
        "colab": {
          "base_uri": "https://localhost:8080/"
        },
        "id": "so0QC0sYS645",
        "outputId": "2d338bde-fa56-4a1b-861c-529e507b7cd6"
      },
      "execution_count": 15,
      "outputs": [
        {
          "output_type": "stream",
          "name": "stdout",
          "text": [
            "[[-58  -5  23]]\n"
          ]
        }
      ]
    },
    {
      "cell_type": "code",
      "source": [
        "K = numpy.array([[1,1,0],[2,1,2]])\n",
        "transpose = numpy.transpose(K)\n",
        "print(transpose)"
      ],
      "metadata": {
        "colab": {
          "base_uri": "https://localhost:8080/"
        },
        "id": "XDi6I06PUoZq",
        "outputId": "b46a5dfe-d8f1-47b4-e52e-e1e1878fdb3f"
      },
      "execution_count": 17,
      "outputs": [
        {
          "output_type": "stream",
          "name": "stdout",
          "text": [
            "[[1 2]\n",
            " [1 1]\n",
            " [0 2]]\n"
          ]
        }
      ]
    },
    {
      "cell_type": "code",
      "source": [
        " Q = numpy.array([[2,1],[4,3]])\n",
        " inverse = numpy.linalg.inv(Q)\n",
        " print(inverse)"
      ],
      "metadata": {
        "colab": {
          "base_uri": "https://localhost:8080/"
        },
        "id": "_crOWJ4dVKsX",
        "outputId": "137b2601-bdf7-4ad3-d201-fd07fc791da3"
      },
      "execution_count": 18,
      "outputs": [
        {
          "output_type": "stream",
          "name": "stdout",
          "text": [
            "[[ 1.5 -0.5]\n",
            " [-2.   1. ]]\n"
          ]
        }
      ]
    },
    {
      "cell_type": "code",
      "source": [
        "R = numpy.array([[1,1,2],[2,1,2],[2,3,1]])\n",
        "inverse = numpy.linalg.inv(R)\n",
        "print(inverse)\n"
      ],
      "metadata": {
        "colab": {
          "base_uri": "https://localhost:8080/"
        },
        "id": "oW9lUhmZXHN_",
        "outputId": "75990e62-f106-4851-e1ad-7545067cf2ae"
      },
      "execution_count": 19,
      "outputs": [
        {
          "output_type": "stream",
          "name": "stdout",
          "text": [
            "[[-1.   1.   0. ]\n",
            " [ 0.4 -0.6  0.4]\n",
            " [ 0.8 -0.2 -0.2]]\n"
          ]
        }
      ]
    },
    {
      "cell_type": "code",
      "source": [
        "#Rank of the matrix\n",
        "P = numpy.array([[1,1,2],[2,1,2],[2,3,1]])\n",
        "rank = numpy.linalg.matrix_rank(P)\n",
        "print(rank)"
      ],
      "metadata": {
        "colab": {
          "base_uri": "https://localhost:8080/"
        },
        "id": "A40ucVPAXtT5",
        "outputId": "9495fb0c-5278-4530-8b7d-20f1d724fe63"
      },
      "execution_count": 20,
      "outputs": [
        {
          "output_type": "stream",
          "name": "stdout",
          "text": [
            "3\n"
          ]
        }
      ]
    },
    {
      "cell_type": "code",
      "source": [
        "P = numpy.array([[1,2,3],[2,1,2],[2,4,6]])\n",
        "rank = numpy.linalg.matrix_rank(P)\n",
        "print(\"rank of the matrix H is: \" + str(rank))\n"
      ],
      "metadata": {
        "colab": {
          "base_uri": "https://localhost:8080/"
        },
        "id": "fLtyGFrQYcu-",
        "outputId": "77e9b8ab-d1f7-4bae-d155-7edebd8b7977"
      },
      "execution_count": 21,
      "outputs": [
        {
          "output_type": "stream",
          "name": "stdout",
          "text": [
            "rank of the matrix H is: 2\n"
          ]
        }
      ]
    },
    {
      "cell_type": "code",
      "source": [
        "## LU Decomposition\n",
        "from scipy.linalg import lu\n",
        "A = numpy.array([[1,2,3],[2,1,2],[2,4,6]])\n",
        "P, L, U = lu(A)"
      ],
      "metadata": {
        "id": "rG3AMpwyZIxp"
      },
      "execution_count": 30,
      "outputs": []
    },
    {
      "cell_type": "code",
      "source": [
        "print(P)"
      ],
      "metadata": {
        "colab": {
          "base_uri": "https://localhost:8080/"
        },
        "id": "o7CrQ36XZ9Jv",
        "outputId": "e2d702a4-45ca-483d-d2bd-cdaae97a5c05"
      },
      "execution_count": 31,
      "outputs": [
        {
          "output_type": "stream",
          "name": "stdout",
          "text": [
            "[[0. 0. 1.]\n",
            " [1. 0. 0.]\n",
            " [0. 1. 0.]]\n"
          ]
        }
      ]
    },
    {
      "cell_type": "code",
      "source": [
        "print(L)"
      ],
      "metadata": {
        "colab": {
          "base_uri": "https://localhost:8080/"
        },
        "id": "TseRoT-rZ-x3",
        "outputId": "267b7b87-a54f-4001-b7d8-6d395b959b23"
      },
      "execution_count": 32,
      "outputs": [
        {
          "output_type": "stream",
          "name": "stdout",
          "text": [
            "[[1.  0.  0. ]\n",
            " [1.  1.  0. ]\n",
            " [0.5 0.5 1. ]]\n"
          ]
        }
      ]
    },
    {
      "cell_type": "code",
      "source": [
        "print(U)"
      ],
      "metadata": {
        "colab": {
          "base_uri": "https://localhost:8080/"
        },
        "id": "9EKoQk5caBZY",
        "outputId": "b4b98ec6-6ac0-4788-d870-3f76a1d77c2e"
      },
      "execution_count": 33,
      "outputs": [
        {
          "output_type": "stream",
          "name": "stdout",
          "text": [
            "[[2. 1. 2.]\n",
            " [0. 3. 4.]\n",
            " [0. 0. 0.]]\n"
          ]
        }
      ]
    },
    {
      "cell_type": "code",
      "source": [
        "result =P.dot(L).dot(U)\n",
        "print(result)"
      ],
      "metadata": {
        "colab": {
          "base_uri": "https://localhost:8080/"
        },
        "id": "aH0FqkjkaMGD",
        "outputId": "674a6cfa-e379-409e-c967-413b5dcf9e58"
      },
      "execution_count": 35,
      "outputs": [
        {
          "output_type": "stream",
          "name": "stdout",
          "text": [
            "[[1. 2. 3.]\n",
            " [2. 1. 2.]\n",
            " [2. 4. 6.]]\n"
          ]
        }
      ]
    },
    {
      "cell_type": "code",
      "source": [
        "## QR Decomposition\n",
        "from numpy.linalg import qr"
      ],
      "metadata": {
        "id": "rQRAHhLZaVsE"
      },
      "execution_count": 36,
      "outputs": []
    },
    {
      "cell_type": "code",
      "source": [
        "S = numpy.array([[1,2,3],[2,1,2],[2,4,6]])\n",
        "Q, R = qr(S)"
      ],
      "metadata": {
        "id": "YPgDy6sqauMY"
      },
      "execution_count": 37,
      "outputs": []
    },
    {
      "cell_type": "code",
      "source": [
        "print(Q)"
      ],
      "metadata": {
        "colab": {
          "base_uri": "https://localhost:8080/"
        },
        "id": "bWBFKLi_bOxI",
        "outputId": "8e3b2863-de35-4de5-b6df-444acfe3cf15"
      },
      "execution_count": 38,
      "outputs": [
        {
          "output_type": "stream",
          "name": "stdout",
          "text": [
            "[[-0.33333333  0.2981424  -0.89442719]\n",
            " [-0.66666667 -0.74535599  0.        ]\n",
            " [-0.66666667  0.59628479  0.4472136 ]]\n"
          ]
        }
      ]
    },
    {
      "cell_type": "code",
      "source": [
        "print(R)"
      ],
      "metadata": {
        "colab": {
          "base_uri": "https://localhost:8080/"
        },
        "id": "oa2IXLMibVMR",
        "outputId": "9556faa8-2d0f-473a-8fae-5bd38f349919"
      },
      "execution_count": 39,
      "outputs": [
        {
          "output_type": "stream",
          "name": "stdout",
          "text": [
            "[[-3.00000000e+00 -4.00000000e+00 -6.33333333e+00]\n",
            " [ 0.00000000e+00  2.23606798e+00  2.98142397e+00]\n",
            " [ 0.00000000e+00  0.00000000e+00  8.88178420e-16]]\n"
          ]
        }
      ]
    },
    {
      "cell_type": "code",
      "source": [
        "result = Q.dot(R)\n",
        "print(result)"
      ],
      "metadata": {
        "colab": {
          "base_uri": "https://localhost:8080/"
        },
        "id": "1sUJWsCybXfw",
        "outputId": "1d45d534-7302-40e1-e467-c03c67b295cb"
      },
      "execution_count": 40,
      "outputs": [
        {
          "output_type": "stream",
          "name": "stdout",
          "text": [
            "[[1. 2. 3.]\n",
            " [2. 1. 2.]\n",
            " [2. 4. 6.]]\n"
          ]
        }
      ]
    },
    {
      "cell_type": "code",
      "source": [
        "##cholesky Decomposition\n",
        "from numpy.linalg import cholesky\n"
      ],
      "metadata": {
        "id": "Ig05wui7bmo6"
      },
      "execution_count": 41,
      "outputs": []
    },
    {
      "cell_type": "code",
      "source": [
        "D2 = numpy.array([[2,1,1],[1,2,1],[1,1,2]])\n",
        "L = cholesky(D2)\n",
        "T = numpy.transpose(L)"
      ],
      "metadata": {
        "id": "JF8zyPSfb8FJ"
      },
      "execution_count": 43,
      "outputs": []
    },
    {
      "cell_type": "code",
      "source": [
        "print(L)"
      ],
      "metadata": {
        "colab": {
          "base_uri": "https://localhost:8080/"
        },
        "id": "h1STYdPXcQE0",
        "outputId": "d2e370a1-e986-40ff-f2a7-bd8a6415a27d"
      },
      "execution_count": 44,
      "outputs": [
        {
          "output_type": "stream",
          "name": "stdout",
          "text": [
            "[[1.41421356 0.         0.        ]\n",
            " [0.70710678 1.22474487 0.        ]\n",
            " [0.70710678 0.40824829 1.15470054]]\n"
          ]
        }
      ]
    },
    {
      "cell_type": "code",
      "source": [
        "result = L.dot(T)\n",
        "print(result)"
      ],
      "metadata": {
        "colab": {
          "base_uri": "https://localhost:8080/"
        },
        "id": "b1wA4p6_cdvF",
        "outputId": "e6841870-6f71-4eff-bbe6-e46454c3b9b2"
      },
      "execution_count": 45,
      "outputs": [
        {
          "output_type": "stream",
          "name": "stdout",
          "text": [
            "[[2. 1. 1.]\n",
            " [1. 2. 1.]\n",
            " [1. 1. 2.]]\n"
          ]
        }
      ]
    },
    {
      "cell_type": "code",
      "source": [
        "## Eigen value and eigen Vectors"
      ],
      "metadata": {
        "id": "tDvEgsr7cvcC"
      },
      "execution_count": 46,
      "outputs": []
    },
    {
      "cell_type": "code",
      "source": [
        "M = numpy.array([[5,2],[2,1]])\n",
        "eigenvalues, eigenvectors = numpy.linalg.eig(M)"
      ],
      "metadata": {
        "id": "u050W882c354"
      },
      "execution_count": 47,
      "outputs": []
    },
    {
      "cell_type": "code",
      "source": [
        "print(eigenvalues)\n"
      ],
      "metadata": {
        "colab": {
          "base_uri": "https://localhost:8080/"
        },
        "id": "SZOZpYWFjcnA",
        "outputId": "9297ade5-07b7-4a55-9643-9fe64385dec2"
      },
      "execution_count": 49,
      "outputs": [
        {
          "output_type": "stream",
          "name": "stdout",
          "text": [
            "[5.82842712 0.17157288]\n"
          ]
        }
      ]
    },
    {
      "cell_type": "code",
      "source": [
        "print(eigenvectors)"
      ],
      "metadata": {
        "colab": {
          "base_uri": "https://localhost:8080/"
        },
        "id": "o-eB0tAzjsDE",
        "outputId": "9e5a8b2d-1f16-40c0-e4e1-ac279907c8aa"
      },
      "execution_count": 50,
      "outputs": [
        {
          "output_type": "stream",
          "name": "stdout",
          "text": [
            "[[ 0.92387953 -0.38268343]\n",
            " [ 0.38268343  0.92387953]]\n"
          ]
        }
      ]
    },
    {
      "cell_type": "code",
      "source": [
        "import numpy as np\n",
        "import seaborn as sns"
      ],
      "metadata": {
        "id": "oxVvJiOijxnU"
      },
      "execution_count": 51,
      "outputs": []
    },
    {
      "cell_type": "code",
      "source": [],
      "metadata": {
        "id": "hDAtChT7j_Q0"
      },
      "execution_count": 52,
      "outputs": []
    },
    {
      "cell_type": "code",
      "source": [],
      "metadata": {
        "id": "l3iHpeBMj_Kw"
      },
      "execution_count": null,
      "outputs": []
    }
  ]
}