{
  "nbformat": 4,
  "nbformat_minor": 0,
  "metadata": {
    "colab": {
      "provenance": []
    },
    "kernelspec": {
      "name": "python3",
      "display_name": "Python 3"
    },
    "language_info": {
      "name": "python"
    }
  },
  "cells": [
    {
      "cell_type": "markdown",
      "source": [
        "Suppose a company is evaluating the impact of a new training program on the productivity of its employees. The company has data on the average productivity of its employees before implementing the new training program. The average productivity was 50 units per day with a known pop standard deviation of 5 units. After implementing the training program, the company measures the productivity of a random sample of 30 employees. The sample employees have an average productivity of 53 units per day. The company wants to know if the new training program has significantly improved the productivity of the employees."
      ],
      "metadata": {
        "id": "L7x4MTpKfisW"
      }
    },
    {
      "cell_type": "markdown",
      "source": [
        "Ho= The sample employees have an average productivity of 53 units per day\n",
        "\n",
        "H1 = The sample employees have not an average productivity of 53 units per day"
      ],
      "metadata": {
        "id": "NRXrDaoPiya_"
      }
    },
    {
      "cell_type": "code",
      "execution_count": 7,
      "metadata": {
        "colab": {
          "base_uri": "https://localhost:8080/"
        },
        "id": "IXGTgwhPfLcf",
        "outputId": "ef664659-557a-4846-bfef-6ad4fc8da8dd"
      },
      "outputs": [
        {
          "output_type": "stream",
          "name": "stdout",
          "text": [
            "[np.int64(56), np.int64(55), np.int64(57), np.int64(54), np.int64(55), np.int64(55), np.int64(51), np.int64(56), np.int64(55), np.int64(51), np.int64(58), np.int64(52), np.int64(57), np.int64(53), np.int64(56), np.int64(51), np.int64(51), np.int64(53), np.int64(55), np.int64(54), np.int64(54), np.int64(51), np.int64(56), np.int64(57), np.int64(53), np.int64(55), np.int64(52), np.int64(54), np.int64(53), np.int64(55)]\n",
            "Z-statistic: 11.119161097842847\n",
            "p-value: 1.0121924761107612e-28\n"
          ]
        }
      ],
      "source": [
        "import numpy as np\n",
        "from statsmodels.stats.weightstats import ztest\n",
        "\n",
        "sample_data = list(np.random.randint(50, 59, size = 30))\n",
        "print(sample_data)\n",
        "\n",
        "pm = 50\n",
        "pop_std_dev = 5\n",
        "\n",
        "standardized_sample_data = [(x - pm) / (pop_std_dev / np.sqrt(len(sample_data))) for x in sample_data]\n",
        "\n",
        "Z_statistic, p_value = ztest(standardized_sample_data, value = 0)\n",
        "\n",
        "print(\"Z-statistic:\", Z_statistic)\n",
        "print(\"p-value:\", p_value)\n"
      ]
    },
    {
      "cell_type": "markdown",
      "source": [
        "NOTE:- here we are rejecting Ho as per p value <0.05\n"
      ],
      "metadata": {
        "id": "GkFxqVRPjIbq"
      }
    },
    {
      "cell_type": "markdown",
      "source": [
        "The company claims that their new algorithm can process a specific dataset in an average of 20 minutes, which is faster than the current average processing time of 22 minutes using the standard algorithm. To validate this claim, a data scientist decides to conduct a t-test.\n",
        "The data scientist collects a sample of processing times using the new algorithm. The sample consists of 10 processing times (in minutes):\n",
        "\n",
        "Sample Data : 19,18,21,20,19,22,18,17,21,20\n",
        "\n",
        "The data scientist wants to test if the new algorithm significantly reduces the processing time compared to the standard average of 22 minutes. The hypothesis for the t-test would be set up as follows:\n",
        "- `Null Hypothesis (H₀)`: The mean processing time using the new algorithm is equal to 22 minutes. (μ≥22)\n",
        "- `Alternative Hypothesis (H₁)`: The mean processing time using the new algorithm is less than 22 minutes. (μ<22)"
      ],
      "metadata": {
        "id": "-5JicR_gjjAU"
      }
    },
    {
      "cell_type": "code",
      "source": [
        "from scipy.stats import ttest_1samp\n",
        "pm = 22\n",
        "sample_data = [19,18,21,20,19,22,18,17,21,20]\n",
        "\n",
        "t_statistic, p_value = ttest_1samp(sample_data, pm)\n",
        "\n"
      ],
      "metadata": {
        "id": "-4ekALaEjkWc"
      },
      "execution_count": 9,
      "outputs": []
    },
    {
      "cell_type": "code",
      "source": [
        "print( t_statistic)\n"
      ],
      "metadata": {
        "colab": {
          "base_uri": "https://localhost:8080/"
        },
        "id": "qVdUF7UykgM6",
        "outputId": "0de85017-b97b-4759-f2b4-e6d1e6907db7"
      },
      "execution_count": 11,
      "outputs": [
        {
          "output_type": "stream",
          "name": "stdout",
          "text": [
            "-5.0\n"
          ]
        }
      ]
    },
    {
      "cell_type": "code",
      "source": [
        "print(\"p-value:\", p_value)"
      ],
      "metadata": {
        "colab": {
          "base_uri": "https://localhost:8080/"
        },
        "id": "0psgGJxZkofU",
        "outputId": "0ed74769-733f-48c8-fa8e-7174c2e50bba"
      },
      "execution_count": 12,
      "outputs": [
        {
          "output_type": "stream",
          "name": "stdout",
          "text": [
            "p-value: 0.0007389679098032424\n"
          ]
        }
      ]
    },
    {
      "cell_type": "markdown",
      "source": [
        "NOTE:- Rejected Null Hypothesis"
      ],
      "metadata": {
        "id": "HN7S83PVkvpV"
      }
    },
    {
      "cell_type": "markdown",
      "source": [
        "#### **Two-Sample t-test**\n",
        "\n",
        "A two-sample t-test is often used to determine if there is a significant difference between the means of two groups."
      ],
      "metadata": {
        "id": "zlaAXDmtlDK_"
      }
    },
    {
      "cell_type": "markdown",
      "source": [
        "A researcher wants to evaluate whether there is a significant difference in the average test scores of students who used two different study methods (Method A and Method B) for an exam. The researcher randomly selects two independent groups of students: one group uses Method A, and the other uses Method B. The test scores for each group are recorded as follows:\n",
        "\n",
        "- Method A Scores: [78, 84, 92, 88, 75, 80, 85, 90, 87, 79]\n",
        "- Method B Scores: [82, 88, 75, 90, 78, 85, 88, 77, 92, 80]"
      ],
      "metadata": {
        "id": "vgXcHNYplIYi"
      }
    },
    {
      "cell_type": "markdown",
      "source": [
        "Ho = there is a significant difference in the average test scores of students who used two different study methods (Method A and Method B) for an exam\n",
        "\n",
        "H1 = there is no a significant difference in the average test scores of students who used two different study methods (Method A and Method B) for an exam"
      ],
      "metadata": {
        "id": "W-0LwEGVmZ8i"
      }
    },
    {
      "cell_type": "code",
      "source": [
        "import numpy as np\n",
        "from scipy import stats\n",
        "\n",
        "# Sample data for Method A and Method B\n",
        "Method_A_Scores = [78, 84, 92, 88, 75, 80, 85, 90, 87, 79]\n",
        "Method_B_Scores = [82, 88, 75, 90, 78, 85, 88, 77, 92, 80]\n",
        "\n",
        "# Step 1: Perform Shapiro-Wilk test for normality\n",
        "shapiro_a = stats.shapiro(Method_A_Scores)\n",
        "shapiro_b = stats.shapiro(Method_B_Scores )\n",
        "\n",
        "print(shapiro_a)\n",
        "print(shapiro_b)\n"
      ],
      "metadata": {
        "colab": {
          "base_uri": "https://localhost:8080/"
        },
        "id": "KWd_2yZilKQr",
        "outputId": "43de7305-4c68-4bf1-d9c8-bee9efc28c1e"
      },
      "execution_count": 19,
      "outputs": [
        {
          "output_type": "stream",
          "name": "stdout",
          "text": [
            "ShapiroResult(statistic=np.float64(0.9634209538811345), pvalue=np.float64(0.8240632802317183))\n",
            "ShapiroResult(statistic=np.float64(0.9429848795756282), pvalue=np.float64(0.5866793733496176))\n"
          ]
        }
      ]
    },
    {
      "cell_type": "code",
      "source": [
        "levene_test = stats.levene(Method_A_Scores, Method_B_Scores)\n",
        "print(levene_test.pvalue)"
      ],
      "metadata": {
        "colab": {
          "base_uri": "https://localhost:8080/"
        },
        "id": "zm0wpthLk1_0",
        "outputId": "1e41c9c0-7ee1-403b-89bc-e38fbfb206a3"
      },
      "execution_count": 20,
      "outputs": [
        {
          "output_type": "stream",
          "name": "stdout",
          "text": [
            "0.6860370886859155\n"
          ]
        }
      ]
    },
    {
      "cell_type": "code",
      "source": [
        "t_statistic, p_value = stats.ttest_ind(Method_A_Scores, Method_B_Scores)\n",
        "print(\"t-statistic:\", t_statistic)\n",
        "print(\"p-value:\", p_value)"
      ],
      "metadata": {
        "colab": {
          "base_uri": "https://localhost:8080/"
        },
        "id": "uLBlCGzBoQNt",
        "outputId": "4668cec8-4fe9-499e-9e61-41c4df543abb"
      },
      "execution_count": 21,
      "outputs": [
        {
          "output_type": "stream",
          "name": "stdout",
          "text": [
            "t-statistic: 0.11617981913799512\n",
            "p-value: 0.9087964141018375\n"
          ]
        }
      ]
    },
    {
      "cell_type": "markdown",
      "source": [
        "note:- HERE WE CANT REJECT HO AS PER P VALUE\n"
      ],
      "metadata": {
        "id": "_AFoXnM-o4Qa"
      }
    },
    {
      "cell_type": "markdown",
      "source": [
        "**Problem Statement:** A researcher wants to investigate whether different diets lead to different weight loss outcomes. Three different diet plans (Diet A, Diet B, and Diet C) are tested on groups of participants, and the weight loss (in kilograms) is recorded after a month. The researcher wants to determine if there is a significant difference in mean weight loss among the three diet plans.\n",
        "\n",
        "**Hypotheses:**\n",
        "- Null Hypothesis ($H_0$): There is no difference in the mean weight loss among the three diet plans. ($\\mu_A = \\mu_B = \\mu_C$)\n",
        "- Alternative Hypothesis ($H_1$): At least one diet plan has a different mean weight loss compared to the others."
      ],
      "metadata": {
        "id": "LiY2LjhLpUxR"
      }
    },
    {
      "cell_type": "code",
      "source": [
        "import numpy as np\n",
        "from scipy.stats import f_oneway, levene"
      ],
      "metadata": {
        "id": "7RGe-KeZpBLt"
      },
      "execution_count": 24,
      "outputs": []
    },
    {
      "cell_type": "code",
      "source": [
        "# Sample data: weight loss for each diet plan\n",
        "diet_A_loss = np.random.normal(loc=5, scale=1.5, size=30)  # Mean 5 kg, std dev 1.5\n",
        "diet_B_loss = np.random.normal(loc=6, scale=1.5, size=30)  # Mean 6 kg, std dev 1.5\n",
        "diet_C_loss = np.random.normal(loc=4.5, scale=1.5, size=30)  # Mean 4.5 kg, std dev 1.5"
      ],
      "metadata": {
        "id": "YSHpha67qYUY"
      },
      "execution_count": 25,
      "outputs": []
    },
    {
      "cell_type": "code",
      "source": [
        "#step 1: shapiro wilk test to perform nomality\n",
        "shapiro_a = stats.shapiro(diet_A_loss)\n",
        "shapiro_b = stats.shapiro(diet_B_loss)\n",
        "shapiro_c = stats.shapiro(diet_C_loss)"
      ],
      "metadata": {
        "id": "tVrI3BNTqlfc"
      },
      "execution_count": 26,
      "outputs": []
    },
    {
      "cell_type": "code",
      "source": [
        "print(shapiro_a)\n",
        "print(shapiro_b)\n",
        "print(shapiro_c)"
      ],
      "metadata": {
        "colab": {
          "base_uri": "https://localhost:8080/"
        },
        "id": "6EhLFLHZqntb",
        "outputId": "8254112c-e4a1-4342-b99c-523d9256535b"
      },
      "execution_count": 27,
      "outputs": [
        {
          "output_type": "stream",
          "name": "stdout",
          "text": [
            "ShapiroResult(statistic=np.float64(0.984762641470921), pvalue=np.float64(0.9330790727509193))\n",
            "ShapiroResult(statistic=np.float64(0.9477378872478013), pvalue=np.float64(0.14700179115452328))\n",
            "ShapiroResult(statistic=np.float64(0.9636441423559844), pvalue=np.float64(0.38248066209643683))\n"
          ]
        }
      ]
    },
    {
      "cell_type": "code",
      "source": [
        "levene_test = stats.levene(diet_A_loss, diet_B_loss, diet_C_loss)\n",
        "print(levene_test.pvalue) ##important cosideration point, so we have the same variances here because leven p values >0.05"
      ],
      "metadata": {
        "colab": {
          "base_uri": "https://localhost:8080/"
        },
        "id": "E8FCCnntqsxg",
        "outputId": "8cfec787-b70f-4790-f3cd-0528e4950402"
      },
      "execution_count": 29,
      "outputs": [
        {
          "output_type": "stream",
          "name": "stdout",
          "text": [
            "0.09627059203395172\n"
          ]
        }
      ]
    },
    {
      "cell_type": "code",
      "source": [
        "anova_statistic, p_value = f_oneway(diet_A_loss, diet_B_loss, diet_C_loss)\n",
        "print(\"ANOVA Statistic:\", anova_statistic)\n",
        "print(\"p-value:\", p_value)"
      ],
      "metadata": {
        "colab": {
          "base_uri": "https://localhost:8080/"
        },
        "id": "wULJditSrFkB",
        "outputId": "f0a4efaa-8e45-41fa-a9f0-89a027cc947f"
      },
      "execution_count": 30,
      "outputs": [
        {
          "output_type": "stream",
          "name": "stdout",
          "text": [
            "ANOVA Statistic: 21.696161937431903\n",
            "p-value: 2.26790250663781e-08\n"
          ]
        }
      ]
    },
    {
      "cell_type": "markdown",
      "source": [],
      "metadata": {
        "id": "KxwbdMWdqWmK"
      }
    }
  ]
}